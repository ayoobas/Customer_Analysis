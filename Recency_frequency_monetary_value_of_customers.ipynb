{
 "cells": [
  {
   "cell_type": "code",
   "execution_count": 88,
   "id": "d73d6c03",
   "metadata": {},
   "outputs": [],
   "source": [
    "#load dependencies\n",
    "import pandas as pd\n",
    "import numpy as np\n",
    "import matplotlib.pyplot as plt\n",
    "import seaborn as sns\n",
    "import warnings\n",
    "warnings.filterwarnings('ignore')\n",
    "%matplotlib inline"
   ]
  },
  {
   "cell_type": "code",
   "execution_count": 89,
   "id": "e373d981",
   "metadata": {},
   "outputs": [],
   "source": [
    "#load dataset\n",
    "df = pd.read_csv('clean_dataset1.csv')"
   ]
  },
  {
   "cell_type": "code",
   "execution_count": 90,
   "id": "46f3787e",
   "metadata": {},
   "outputs": [
    {
     "data": {
      "text/html": [
       "<div>\n",
       "<style scoped>\n",
       "    .dataframe tbody tr th:only-of-type {\n",
       "        vertical-align: middle;\n",
       "    }\n",
       "\n",
       "    .dataframe tbody tr th {\n",
       "        vertical-align: top;\n",
       "    }\n",
       "\n",
       "    .dataframe thead th {\n",
       "        text-align: right;\n",
       "    }\n",
       "</style>\n",
       "<table border=\"1\" class=\"dataframe\">\n",
       "  <thead>\n",
       "    <tr style=\"text-align: right;\">\n",
       "      <th></th>\n",
       "      <th>UserId</th>\n",
       "      <th>invoiceNo</th>\n",
       "      <th>InvoiceDate</th>\n",
       "      <th>ItemCode</th>\n",
       "      <th>ItemDescription</th>\n",
       "      <th>NumberOfItemsPurchased</th>\n",
       "      <th>CostPerItem</th>\n",
       "      <th>AmountSpent</th>\n",
       "      <th>Country</th>\n",
       "    </tr>\n",
       "  </thead>\n",
       "  <tbody>\n",
       "    <tr>\n",
       "      <th>0</th>\n",
       "      <td>1</td>\n",
       "      <td>6396412</td>\n",
       "      <td>2/20/2019</td>\n",
       "      <td>478989</td>\n",
       "      <td>SET OF 6 T-LIGHTS SANTA</td>\n",
       "      <td>3</td>\n",
       "      <td>8</td>\n",
       "      <td>24</td>\n",
       "      <td>United Kingdom</td>\n",
       "    </tr>\n",
       "    <tr>\n",
       "      <th>1</th>\n",
       "      <td>1</td>\n",
       "      <td>6396412</td>\n",
       "      <td>2/20/2019</td>\n",
       "      <td>486633</td>\n",
       "      <td>REGENCY TEAPOT ROSES</td>\n",
       "      <td>3</td>\n",
       "      <td>27</td>\n",
       "      <td>82</td>\n",
       "      <td>United Kingdom</td>\n",
       "    </tr>\n",
       "    <tr>\n",
       "      <th>2</th>\n",
       "      <td>369201</td>\n",
       "      <td>6397391</td>\n",
       "      <td>2/20/2019</td>\n",
       "      <td>494781</td>\n",
       "      <td>SET OF 6 RIBBONS PARTY</td>\n",
       "      <td>18</td>\n",
       "      <td>3</td>\n",
       "      <td>71</td>\n",
       "      <td>United Kingdom</td>\n",
       "    </tr>\n",
       "  </tbody>\n",
       "</table>\n",
       "</div>"
      ],
      "text/plain": [
       "   UserId  invoiceNo InvoiceDate  ItemCode          ItemDescription  \\\n",
       "0       1    6396412   2/20/2019    478989  SET OF 6 T-LIGHTS SANTA   \n",
       "1       1    6396412   2/20/2019    486633    REGENCY TEAPOT ROSES    \n",
       "2  369201    6397391   2/20/2019    494781   SET OF 6 RIBBONS PARTY   \n",
       "\n",
       "   NumberOfItemsPurchased  CostPerItem  AmountSpent         Country  \n",
       "0                       3            8           24  United Kingdom  \n",
       "1                       3           27           82  United Kingdom  \n",
       "2                      18            3           71  United Kingdom  "
      ]
     },
     "execution_count": 90,
     "metadata": {},
     "output_type": "execute_result"
    }
   ],
   "source": [
    "df.head(3)"
   ]
  },
  {
   "cell_type": "code",
   "execution_count": 91,
   "id": "f24a0baa",
   "metadata": {
    "scrolled": true
   },
   "outputs": [
    {
     "name": "stdout",
     "output_type": "stream",
     "text": [
      "<class 'pandas.core.frame.DataFrame'>\n",
      "RangeIndex: 4959 entries, 0 to 4958\n",
      "Data columns (total 9 columns):\n",
      " #   Column                  Non-Null Count  Dtype \n",
      "---  ------                  --------------  ----- \n",
      " 0   UserId                  4959 non-null   int64 \n",
      " 1   invoiceNo               4959 non-null   int64 \n",
      " 2   InvoiceDate             4959 non-null   object\n",
      " 3   ItemCode                4959 non-null   int64 \n",
      " 4   ItemDescription         4959 non-null   object\n",
      " 5   NumberOfItemsPurchased  4959 non-null   int64 \n",
      " 6   CostPerItem             4959 non-null   int64 \n",
      " 7   AmountSpent             4959 non-null   int64 \n",
      " 8   Country                 4959 non-null   object\n",
      "dtypes: int64(6), object(3)\n",
      "memory usage: 348.8+ KB\n"
     ]
    }
   ],
   "source": [
    "df.info()"
   ]
  },
  {
   "cell_type": "code",
   "execution_count": 92,
   "id": "5c6a473e",
   "metadata": {},
   "outputs": [],
   "source": [
    "df.sort_values('InvoiceDate', inplace=True)"
   ]
  },
  {
   "cell_type": "code",
   "execution_count": 93,
   "id": "f1589bb7",
   "metadata": {},
   "outputs": [
    {
     "data": {
      "text/plain": [
       "'9/9/2018'"
      ]
     },
     "execution_count": 93,
     "metadata": {},
     "output_type": "execute_result"
    }
   ],
   "source": [
    "df['InvoiceDate'].max()"
   ]
  },
  {
   "cell_type": "code",
   "execution_count": 94,
   "id": "21191274",
   "metadata": {},
   "outputs": [],
   "source": [
    "#convert column to date time in order to find the max date and min date\n",
    "df['InvoiceDate'] = pd.to_datetime(df['InvoiceDate'])"
   ]
  },
  {
   "cell_type": "code",
   "execution_count": 95,
   "id": "ffb8991b",
   "metadata": {},
   "outputs": [],
   "source": [
    "df.sort_values('InvoiceDate', inplace= True)"
   ]
  },
  {
   "cell_type": "code",
   "execution_count": 102,
   "id": "89f64e65",
   "metadata": {},
   "outputs": [
    {
     "name": "stdout",
     "output_type": "stream",
     "text": [
      "<class 'pandas.core.frame.DataFrame'>\n",
      "Int64Index: 4959 entries, 4956 to 0\n",
      "Data columns (total 9 columns):\n",
      " #   Column                  Non-Null Count  Dtype         \n",
      "---  ------                  --------------  -----         \n",
      " 0   UserId                  4959 non-null   int64         \n",
      " 1   invoiceNo               4959 non-null   int64         \n",
      " 2   InvoiceDate             4959 non-null   datetime64[ns]\n",
      " 3   ItemCode                4959 non-null   int64         \n",
      " 4   ItemDescription         4959 non-null   object        \n",
      " 5   NumberOfItemsPurchased  4959 non-null   int64         \n",
      " 6   CostPerItem             4959 non-null   int64         \n",
      " 7   AmountSpent             4959 non-null   int64         \n",
      " 8   Country                 4959 non-null   object        \n",
      "dtypes: datetime64[ns](1), int64(6), object(2)\n",
      "memory usage: 387.4+ KB\n"
     ]
    }
   ],
   "source": [
    "df.info()"
   ]
  },
  {
   "cell_type": "code",
   "execution_count": 96,
   "id": "680c9e12",
   "metadata": {},
   "outputs": [
    {
     "data": {
      "text/html": [
       "<div>\n",
       "<style scoped>\n",
       "    .dataframe tbody tr th:only-of-type {\n",
       "        vertical-align: middle;\n",
       "    }\n",
       "\n",
       "    .dataframe tbody tr th {\n",
       "        vertical-align: top;\n",
       "    }\n",
       "\n",
       "    .dataframe thead th {\n",
       "        text-align: right;\n",
       "    }\n",
       "</style>\n",
       "<table border=\"1\" class=\"dataframe\">\n",
       "  <thead>\n",
       "    <tr style=\"text-align: right;\">\n",
       "      <th></th>\n",
       "      <th>UserId</th>\n",
       "      <th>invoiceNo</th>\n",
       "      <th>InvoiceDate</th>\n",
       "      <th>ItemCode</th>\n",
       "      <th>ItemDescription</th>\n",
       "      <th>NumberOfItemsPurchased</th>\n",
       "      <th>CostPerItem</th>\n",
       "      <th>AmountSpent</th>\n",
       "      <th>Country</th>\n",
       "    </tr>\n",
       "  </thead>\n",
       "  <tbody>\n",
       "    <tr>\n",
       "      <th>4956</th>\n",
       "      <td>1</td>\n",
       "      <td>5901984</td>\n",
       "      <td>2018-02-12</td>\n",
       "      <td>482160</td>\n",
       "      <td>JAM MAKING SET WITH JARS</td>\n",
       "      <td>21</td>\n",
       "      <td>11</td>\n",
       "      <td>245</td>\n",
       "      <td>United Kingdom</td>\n",
       "    </tr>\n",
       "    <tr>\n",
       "      <th>4950</th>\n",
       "      <td>1</td>\n",
       "      <td>5901984</td>\n",
       "      <td>2018-02-12</td>\n",
       "      <td>744891</td>\n",
       "      <td>SET OF 3 BIRD LIGHT PINK FEATHER</td>\n",
       "      <td>3</td>\n",
       "      <td>3</td>\n",
       "      <td>10</td>\n",
       "      <td>United Kingdom</td>\n",
       "    </tr>\n",
       "  </tbody>\n",
       "</table>\n",
       "</div>"
      ],
      "text/plain": [
       "      UserId  invoiceNo InvoiceDate  ItemCode  \\\n",
       "4956       1    5901984  2018-02-12    482160   \n",
       "4950       1    5901984  2018-02-12    744891   \n",
       "\n",
       "                        ItemDescription  NumberOfItemsPurchased  CostPerItem  \\\n",
       "4956           JAM MAKING SET WITH JARS                      21           11   \n",
       "4950  SET OF 3 BIRD LIGHT PINK FEATHER                        3            3   \n",
       "\n",
       "      AmountSpent         Country  \n",
       "4956          245  United Kingdom  \n",
       "4950           10  United Kingdom  "
      ]
     },
     "execution_count": 96,
     "metadata": {},
     "output_type": "execute_result"
    }
   ],
   "source": [
    "df.head(2)"
   ]
  },
  {
   "cell_type": "code",
   "execution_count": 99,
   "id": "eab151da",
   "metadata": {},
   "outputs": [
    {
     "data": {
      "text/html": [
       "<div>\n",
       "<style scoped>\n",
       "    .dataframe tbody tr th:only-of-type {\n",
       "        vertical-align: middle;\n",
       "    }\n",
       "\n",
       "    .dataframe tbody tr th {\n",
       "        vertical-align: top;\n",
       "    }\n",
       "\n",
       "    .dataframe thead th {\n",
       "        text-align: right;\n",
       "    }\n",
       "</style>\n",
       "<table border=\"1\" class=\"dataframe\">\n",
       "  <thead>\n",
       "    <tr style=\"text-align: right;\">\n",
       "      <th></th>\n",
       "      <th>UserId</th>\n",
       "      <th>invoiceNo</th>\n",
       "      <th>InvoiceDate</th>\n",
       "      <th>ItemCode</th>\n",
       "      <th>ItemDescription</th>\n",
       "      <th>NumberOfItemsPurchased</th>\n",
       "      <th>CostPerItem</th>\n",
       "      <th>AmountSpent</th>\n",
       "      <th>Country</th>\n",
       "    </tr>\n",
       "  </thead>\n",
       "  <tbody>\n",
       "    <tr>\n",
       "      <th>0</th>\n",
       "      <td>378231</td>\n",
       "      <td>5902567</td>\n",
       "      <td>2018-02-12</td>\n",
       "      <td>477351</td>\n",
       "      <td>3D CHRISTMAS STAMPS STICKERS</td>\n",
       "      <td>3</td>\n",
       "      <td>1</td>\n",
       "      <td>5</td>\n",
       "      <td>United Kingdom</td>\n",
       "    </tr>\n",
       "    <tr>\n",
       "      <th>1</th>\n",
       "      <td>368508</td>\n",
       "      <td>5900301</td>\n",
       "      <td>2018-02-12</td>\n",
       "      <td>451164</td>\n",
       "      <td>CHICK GREY HOT WATER BOTTLE</td>\n",
       "      <td>36</td>\n",
       "      <td>4</td>\n",
       "      <td>171</td>\n",
       "      <td>United Kingdom</td>\n",
       "    </tr>\n",
       "    <tr>\n",
       "      <th>2</th>\n",
       "      <td>377328</td>\n",
       "      <td>5901104</td>\n",
       "      <td>2018-02-12</td>\n",
       "      <td>446460</td>\n",
       "      <td>FIRST AID TIN</td>\n",
       "      <td>3</td>\n",
       "      <td>4</td>\n",
       "      <td>13</td>\n",
       "      <td>United Kingdom</td>\n",
       "    </tr>\n",
       "    <tr>\n",
       "      <th>3</th>\n",
       "      <td>333102</td>\n",
       "      <td>5900411</td>\n",
       "      <td>2018-02-12</td>\n",
       "      <td>1764630</td>\n",
       "      <td>ENGLISH ROSE HOT WATER BOTTLE</td>\n",
       "      <td>3</td>\n",
       "      <td>5</td>\n",
       "      <td>17</td>\n",
       "      <td>United Kingdom</td>\n",
       "    </tr>\n",
       "  </tbody>\n",
       "</table>\n",
       "</div>"
      ],
      "text/plain": [
       "   UserId  invoiceNo InvoiceDate  ItemCode                ItemDescription  \\\n",
       "0  378231    5902567  2018-02-12    477351  3D CHRISTMAS STAMPS STICKERS    \n",
       "1  368508    5900301  2018-02-12    451164    CHICK GREY HOT WATER BOTTLE   \n",
       "2  377328    5901104  2018-02-12    446460                  FIRST AID TIN   \n",
       "3  333102    5900411  2018-02-12   1764630  ENGLISH ROSE HOT WATER BOTTLE   \n",
       "\n",
       "   NumberOfItemsPurchased  CostPerItem  AmountSpent         Country  \n",
       "0                       3            1            5  United Kingdom  \n",
       "1                      36            4          171  United Kingdom  \n",
       "2                       3            4           13  United Kingdom  \n",
       "3                       3            5           17  United Kingdom  "
      ]
     },
     "execution_count": 99,
     "metadata": {},
     "output_type": "execute_result"
    }
   ],
   "source": [
    "user_df = df.drop_duplicates('UserId', keep ='last').reset_index(drop=True)\n",
    "user_df.head(4)"
   ]
  },
  {
   "cell_type": "code",
   "execution_count": 104,
   "id": "019be2ed",
   "metadata": {},
   "outputs": [],
   "source": [
    "#finding the recency of each customer in respect '2019-02-20 00:00:00'\n",
    "user_df['Recency'] = pd.to_datetime(user_df['InvoiceDate'].max()) - pd.to_datetime(user_df['InvoiceDate'])"
   ]
  },
  {
   "cell_type": "code",
   "execution_count": 114,
   "id": "012b0712",
   "metadata": {
    "scrolled": true
   },
   "outputs": [
    {
     "data": {
      "text/html": [
       "<div>\n",
       "<style scoped>\n",
       "    .dataframe tbody tr th:only-of-type {\n",
       "        vertical-align: middle;\n",
       "    }\n",
       "\n",
       "    .dataframe tbody tr th {\n",
       "        vertical-align: top;\n",
       "    }\n",
       "\n",
       "    .dataframe thead th {\n",
       "        text-align: right;\n",
       "    }\n",
       "</style>\n",
       "<table border=\"1\" class=\"dataframe\">\n",
       "  <thead>\n",
       "    <tr style=\"text-align: right;\">\n",
       "      <th></th>\n",
       "      <th>UserId</th>\n",
       "      <th>invoiceNo</th>\n",
       "      <th>InvoiceDate</th>\n",
       "      <th>ItemCode</th>\n",
       "      <th>ItemDescription</th>\n",
       "      <th>NumberOfItemsPurchased</th>\n",
       "      <th>CostPerItem</th>\n",
       "      <th>AmountSpent</th>\n",
       "      <th>Country</th>\n",
       "      <th>Recency</th>\n",
       "    </tr>\n",
       "  </thead>\n",
       "  <tbody>\n",
       "    <tr>\n",
       "      <th>0</th>\n",
       "      <td>378231</td>\n",
       "      <td>5902567</td>\n",
       "      <td>2018-02-12</td>\n",
       "      <td>477351</td>\n",
       "      <td>3D CHRISTMAS STAMPS STICKERS</td>\n",
       "      <td>3</td>\n",
       "      <td>1</td>\n",
       "      <td>5</td>\n",
       "      <td>United Kingdom</td>\n",
       "      <td>373</td>\n",
       "    </tr>\n",
       "    <tr>\n",
       "      <th>1</th>\n",
       "      <td>368508</td>\n",
       "      <td>5900301</td>\n",
       "      <td>2018-02-12</td>\n",
       "      <td>451164</td>\n",
       "      <td>CHICK GREY HOT WATER BOTTLE</td>\n",
       "      <td>36</td>\n",
       "      <td>4</td>\n",
       "      <td>171</td>\n",
       "      <td>United Kingdom</td>\n",
       "      <td>373</td>\n",
       "    </tr>\n",
       "    <tr>\n",
       "      <th>2</th>\n",
       "      <td>377328</td>\n",
       "      <td>5901104</td>\n",
       "      <td>2018-02-12</td>\n",
       "      <td>446460</td>\n",
       "      <td>FIRST AID TIN</td>\n",
       "      <td>3</td>\n",
       "      <td>4</td>\n",
       "      <td>13</td>\n",
       "      <td>United Kingdom</td>\n",
       "      <td>373</td>\n",
       "    </tr>\n",
       "  </tbody>\n",
       "</table>\n",
       "</div>"
      ],
      "text/plain": [
       "   UserId  invoiceNo InvoiceDate  ItemCode                ItemDescription  \\\n",
       "0  378231    5902567  2018-02-12    477351  3D CHRISTMAS STAMPS STICKERS    \n",
       "1  368508    5900301  2018-02-12    451164    CHICK GREY HOT WATER BOTTLE   \n",
       "2  377328    5901104  2018-02-12    446460                  FIRST AID TIN   \n",
       "\n",
       "   NumberOfItemsPurchased  CostPerItem  AmountSpent         Country  Recency  \n",
       "0                       3            1            5  United Kingdom      373  \n",
       "1                      36            4          171  United Kingdom      373  \n",
       "2                       3            4           13  United Kingdom      373  "
      ]
     },
     "execution_count": 114,
     "metadata": {},
     "output_type": "execute_result"
    }
   ],
   "source": [
    "user_df.head(3)"
   ]
  },
  {
   "cell_type": "code",
   "execution_count": 115,
   "id": "5ae8a0da",
   "metadata": {},
   "outputs": [],
   "source": [
    "#Extracting only the day value \n",
    "#to remove the days \n",
    "user_df['Recency'] = user_df['Recency'].dt.days\n"
   ]
  },
  {
   "cell_type": "code",
   "execution_count": 117,
   "id": "d0181098",
   "metadata": {},
   "outputs": [
    {
     "data": {
      "text/html": [
       "<div>\n",
       "<style scoped>\n",
       "    .dataframe tbody tr th:only-of-type {\n",
       "        vertical-align: middle;\n",
       "    }\n",
       "\n",
       "    .dataframe tbody tr th {\n",
       "        vertical-align: top;\n",
       "    }\n",
       "\n",
       "    .dataframe thead th {\n",
       "        text-align: right;\n",
       "    }\n",
       "</style>\n",
       "<table border=\"1\" class=\"dataframe\">\n",
       "  <thead>\n",
       "    <tr style=\"text-align: right;\">\n",
       "      <th></th>\n",
       "      <th>UserId</th>\n",
       "      <th>Recency</th>\n",
       "    </tr>\n",
       "  </thead>\n",
       "  <tbody>\n",
       "    <tr>\n",
       "      <th>0</th>\n",
       "      <td>378231</td>\n",
       "      <td>373</td>\n",
       "    </tr>\n",
       "    <tr>\n",
       "      <th>1</th>\n",
       "      <td>368508</td>\n",
       "      <td>373</td>\n",
       "    </tr>\n",
       "    <tr>\n",
       "      <th>2</th>\n",
       "      <td>377328</td>\n",
       "      <td>373</td>\n",
       "    </tr>\n",
       "  </tbody>\n",
       "</table>\n",
       "</div>"
      ],
      "text/plain": [
       "   UserId  Recency\n",
       "0  378231      373\n",
       "1  368508      373\n",
       "2  377328      373"
      ]
     },
     "execution_count": 117,
     "metadata": {},
     "output_type": "execute_result"
    }
   ],
   "source": [
    "user_df = user_df[['UserId', 'Recency']]\n",
    "user_df.head(3)"
   ]
  },
  {
   "cell_type": "code",
   "execution_count": 119,
   "id": "fc2847ba",
   "metadata": {},
   "outputs": [
    {
     "data": {
      "text/plain": [
       "373"
      ]
     },
     "execution_count": 119,
     "metadata": {},
     "output_type": "execute_result"
    }
   ],
   "source": [
    "user_df['Recency'].max()"
   ]
  },
  {
   "cell_type": "code",
   "execution_count": 121,
   "id": "fbf8b556",
   "metadata": {},
   "outputs": [
    {
     "data": {
      "text/plain": [
       "(array([512., 305., 184., 141., 135., 109., 108.,  85.,  84.,  79.]),\n",
       " array([  0. ,  37.3,  74.6, 111.9, 149.2, 186.5, 223.8, 261.1, 298.4,\n",
       "        335.7, 373. ]),\n",
       " <BarContainer object of 10 artists>)"
      ]
     },
     "execution_count": 121,
     "metadata": {},
     "output_type": "execute_result"
    },
    {
     "data": {
      "image/png": "[encoded data removed]",
      "text/plain": [
       "<Figure size 640x480 with 1 Axes>"
      ]
     },
     "metadata": {},
     "output_type": "display_data"
    }
   ],
   "source": [
    "#Plot the graph of customers recency\n",
    "#Graph shows that 500 customers made purchase between 0 -30days \n",
    "#While 100 customers made purchase between 350 - 373 days \n",
    "plt.hist(user_df['Recency'])"
   ]
  },
  {
   "cell_type": "markdown",
   "id": "d3ea253c",
   "metadata": {},
   "source": [
    "## To find the purchase frequency of customers"
   ]
  },
  {
   "cell_type": "code",
   "execution_count": 126,
   "id": "a057c9d1",
   "metadata": {},
   "outputs": [
    {
     "data": {
      "text/html": [
       "<div>\n",
       "<style scoped>\n",
       "    .dataframe tbody tr th:only-of-type {\n",
       "        vertical-align: middle;\n",
       "    }\n",
       "\n",
       "    .dataframe tbody tr th {\n",
       "        vertical-align: top;\n",
       "    }\n",
       "\n",
       "    .dataframe thead th {\n",
       "        text-align: right;\n",
       "    }\n",
       "</style>\n",
       "<table border=\"1\" class=\"dataframe\">\n",
       "  <thead>\n",
       "    <tr style=\"text-align: right;\">\n",
       "      <th></th>\n",
       "      <th>UserId</th>\n",
       "      <th>Frequency</th>\n",
       "    </tr>\n",
       "  </thead>\n",
       "  <tbody>\n",
       "    <tr>\n",
       "      <th>0</th>\n",
       "      <td>1</td>\n",
       "      <td>1175</td>\n",
       "    </tr>\n",
       "    <tr>\n",
       "      <th>1</th>\n",
       "      <td>374661</td>\n",
       "      <td>69</td>\n",
       "    </tr>\n",
       "    <tr>\n",
       "      <th>2</th>\n",
       "      <td>296016</td>\n",
       "      <td>51</td>\n",
       "    </tr>\n",
       "    <tr>\n",
       "      <th>3</th>\n",
       "      <td>267708</td>\n",
       "      <td>43</td>\n",
       "    </tr>\n",
       "    <tr>\n",
       "      <th>4</th>\n",
       "      <td>313131</td>\n",
       "      <td>39</td>\n",
       "    </tr>\n",
       "  </tbody>\n",
       "</table>\n",
       "</div>"
      ],
      "text/plain": [
       "   UserId  Frequency\n",
       "0       1       1175\n",
       "1  374661         69\n",
       "2  296016         51\n",
       "3  267708         43\n",
       "4  313131         39"
      ]
     },
     "execution_count": 126,
     "metadata": {},
     "output_type": "execute_result"
    }
   ],
   "source": [
    "#Getting the frequency distribution of each customerid\n",
    "df_frequency = df['UserId'].value_counts().reset_index()\n",
    "df_frequency.columns = ['UserId', 'Frequency']\n",
    "df_frequency.head()"
   ]
  },
  {
   "cell_type": "code",
   "execution_count": 128,
   "id": "d31a5964",
   "metadata": {},
   "outputs": [],
   "source": [
    "#Merge thi data to our main dataframe\n",
    "user_df = pd.merge(user_df, df_frequency, on = 'UserId')"
   ]
  },
  {
   "cell_type": "code",
   "execution_count": 131,
   "id": "816b2024",
   "metadata": {},
   "outputs": [
    {
     "data": {
      "text/html": [
       "<div>\n",
       "<style scoped>\n",
       "    .dataframe tbody tr th:only-of-type {\n",
       "        vertical-align: middle;\n",
       "    }\n",
       "\n",
       "    .dataframe tbody tr th {\n",
       "        vertical-align: top;\n",
       "    }\n",
       "\n",
       "    .dataframe thead th {\n",
       "        text-align: right;\n",
       "    }\n",
       "</style>\n",
       "<table border=\"1\" class=\"dataframe\">\n",
       "  <thead>\n",
       "    <tr style=\"text-align: right;\">\n",
       "      <th></th>\n",
       "      <th>UserId</th>\n",
       "      <th>Recency</th>\n",
       "      <th>Frequency</th>\n",
       "    </tr>\n",
       "  </thead>\n",
       "  <tbody>\n",
       "    <tr>\n",
       "      <th>1739</th>\n",
       "      <td>334110</td>\n",
       "      <td>0</td>\n",
       "      <td>6</td>\n",
       "    </tr>\n",
       "    <tr>\n",
       "      <th>1740</th>\n",
       "      <td>331884</td>\n",
       "      <td>0</td>\n",
       "      <td>6</td>\n",
       "    </tr>\n",
       "    <tr>\n",
       "      <th>1741</th>\n",
       "      <td>1</td>\n",
       "      <td>0</td>\n",
       "      <td>1175</td>\n",
       "    </tr>\n",
       "  </tbody>\n",
       "</table>\n",
       "</div>"
      ],
      "text/plain": [
       "      UserId  Recency  Frequency\n",
       "1739  334110        0          6\n",
       "1740  331884        0          6\n",
       "1741       1        0       1175"
      ]
     },
     "execution_count": 131,
     "metadata": {},
     "output_type": "execute_result"
    }
   ],
   "source": [
    "user_df.tail(3)"
   ]
  },
  {
   "cell_type": "code",
   "execution_count": 133,
   "id": "e34cdb1b",
   "metadata": {},
   "outputs": [
    {
     "data": {
      "image/png": "[encoded data removed]",
      "text/plain": [
       "<Figure size 640x480 with 1 Axes>"
      ]
     },
     "metadata": {},
     "output_type": "display_data"
    }
   ],
   "source": [
    "#Plotting a histogram\n",
    "plt.hist(user_df['Frequency'], bins = 500);"
   ]
  },
  {
   "cell_type": "code",
   "execution_count": 134,
   "id": "8b80751a",
   "metadata": {},
   "outputs": [
    {
     "data": {
      "text/plain": [
       "<matplotlib.collections.PathCollection at 0x228d4bd8d60>"
      ]
     },
     "execution_count": 134,
     "metadata": {},
     "output_type": "execute_result"
    },
    {
     "data": {
      "image/png": "[encoded data removed]",
      "text/plain": [
       "<Figure size 640x480 with 1 Axes>"
      ]
     },
     "metadata": {},
     "output_type": "display_data"
    }
   ],
   "source": [
    "#Plotting a scatter plot\n",
    "plt.scatter(range(user_df.shape[0]), user_df['Frequency'])"
   ]
  },
  {
   "cell_type": "code",
   "execution_count": 135,
   "id": "a9c676ad",
   "metadata": {},
   "outputs": [
    {
     "data": {
      "text/plain": [
       "range(0, 1742)"
      ]
     },
     "execution_count": 135,
     "metadata": {},
     "output_type": "execute_result"
    }
   ],
   "source": [
    "range(user_df.shape[0])"
   ]
  },
  {
   "cell_type": "markdown",
   "id": "3df61740",
   "metadata": {},
   "source": [
    "## Finding monetary value of customers"
   ]
  },
  {
   "cell_type": "code",
   "execution_count": 136,
   "id": "f4f3c5ca",
   "metadata": {},
   "outputs": [
    {
     "data": {
      "text/html": [
       "<div>\n",
       "<style scoped>\n",
       "    .dataframe tbody tr th:only-of-type {\n",
       "        vertical-align: middle;\n",
       "    }\n",
       "\n",
       "    .dataframe tbody tr th {\n",
       "        vertical-align: top;\n",
       "    }\n",
       "\n",
       "    .dataframe thead th {\n",
       "        text-align: right;\n",
       "    }\n",
       "</style>\n",
       "<table border=\"1\" class=\"dataframe\">\n",
       "  <thead>\n",
       "    <tr style=\"text-align: right;\">\n",
       "      <th></th>\n",
       "      <th>UserId</th>\n",
       "      <th>invoiceNo</th>\n",
       "      <th>InvoiceDate</th>\n",
       "      <th>ItemCode</th>\n",
       "      <th>ItemDescription</th>\n",
       "      <th>NumberOfItemsPurchased</th>\n",
       "      <th>CostPerItem</th>\n",
       "      <th>AmountSpent</th>\n",
       "      <th>Country</th>\n",
       "    </tr>\n",
       "  </thead>\n",
       "  <tbody>\n",
       "    <tr>\n",
       "      <th>4956</th>\n",
       "      <td>1</td>\n",
       "      <td>5901984</td>\n",
       "      <td>2018-02-12</td>\n",
       "      <td>482160</td>\n",
       "      <td>JAM MAKING SET WITH JARS</td>\n",
       "      <td>21</td>\n",
       "      <td>11</td>\n",
       "      <td>245</td>\n",
       "      <td>United Kingdom</td>\n",
       "    </tr>\n",
       "    <tr>\n",
       "      <th>4950</th>\n",
       "      <td>1</td>\n",
       "      <td>5901984</td>\n",
       "      <td>2018-02-12</td>\n",
       "      <td>744891</td>\n",
       "      <td>SET OF 3 BIRD LIGHT PINK FEATHER</td>\n",
       "      <td>3</td>\n",
       "      <td>3</td>\n",
       "      <td>10</td>\n",
       "      <td>United Kingdom</td>\n",
       "    </tr>\n",
       "    <tr>\n",
       "      <th>4945</th>\n",
       "      <td>378231</td>\n",
       "      <td>5902567</td>\n",
       "      <td>2018-02-12</td>\n",
       "      <td>477351</td>\n",
       "      <td>3D CHRISTMAS STAMPS STICKERS</td>\n",
       "      <td>3</td>\n",
       "      <td>1</td>\n",
       "      <td>5</td>\n",
       "      <td>United Kingdom</td>\n",
       "    </tr>\n",
       "  </tbody>\n",
       "</table>\n",
       "</div>"
      ],
      "text/plain": [
       "      UserId  invoiceNo InvoiceDate  ItemCode  \\\n",
       "4956       1    5901984  2018-02-12    482160   \n",
       "4950       1    5901984  2018-02-12    744891   \n",
       "4945  378231    5902567  2018-02-12    477351   \n",
       "\n",
       "                        ItemDescription  NumberOfItemsPurchased  CostPerItem  \\\n",
       "4956           JAM MAKING SET WITH JARS                      21           11   \n",
       "4950  SET OF 3 BIRD LIGHT PINK FEATHER                        3            3   \n",
       "4945      3D CHRISTMAS STAMPS STICKERS                        3            1   \n",
       "\n",
       "      AmountSpent         Country  \n",
       "4956          245  United Kingdom  \n",
       "4950           10  United Kingdom  \n",
       "4945            5  United Kingdom  "
      ]
     },
     "execution_count": 136,
     "metadata": {},
     "output_type": "execute_result"
    }
   ],
   "source": [
    "df.head(3)"
   ]
  },
  {
   "cell_type": "code",
   "execution_count": 137,
   "id": "d0a4928d",
   "metadata": {},
   "outputs": [],
   "source": [
    "df_amount = df.groupby('UserId')['AmountSpent'].sum().reset_index()"
   ]
  },
  {
   "cell_type": "code",
   "execution_count": 138,
   "id": "59a41a15",
   "metadata": {},
   "outputs": [],
   "source": [
    "df_amount.rename(columns = {\"AmountSpent\": \"Revenue\"}, inplace = True)"
   ]
  },
  {
   "cell_type": "code",
   "execution_count": 139,
   "id": "bd438a2c",
   "metadata": {},
   "outputs": [
    {
     "data": {
      "text/html": [
       "<div>\n",
       "<style scoped>\n",
       "    .dataframe tbody tr th:only-of-type {\n",
       "        vertical-align: middle;\n",
       "    }\n",
       "\n",
       "    .dataframe tbody tr th {\n",
       "        vertical-align: top;\n",
       "    }\n",
       "\n",
       "    .dataframe thead th {\n",
       "        text-align: right;\n",
       "    }\n",
       "</style>\n",
       "<table border=\"1\" class=\"dataframe\">\n",
       "  <thead>\n",
       "    <tr style=\"text-align: right;\">\n",
       "      <th></th>\n",
       "      <th>UserId</th>\n",
       "      <th>Revenue</th>\n",
       "    </tr>\n",
       "  </thead>\n",
       "  <tbody>\n",
       "    <tr>\n",
       "      <th>0</th>\n",
       "      <td>1</td>\n",
       "      <td>86716</td>\n",
       "    </tr>\n",
       "    <tr>\n",
       "      <th>1</th>\n",
       "      <td>259287</td>\n",
       "      <td>54</td>\n",
       "    </tr>\n",
       "    <tr>\n",
       "      <th>2</th>\n",
       "      <td>259329</td>\n",
       "      <td>246</td>\n",
       "    </tr>\n",
       "    <tr>\n",
       "      <th>3</th>\n",
       "      <td>259392</td>\n",
       "      <td>331</td>\n",
       "    </tr>\n",
       "    <tr>\n",
       "      <th>4</th>\n",
       "      <td>259434</td>\n",
       "      <td>73</td>\n",
       "    </tr>\n",
       "  </tbody>\n",
       "</table>\n",
       "</div>"
      ],
      "text/plain": [
       "   UserId  Revenue\n",
       "0       1    86716\n",
       "1  259287       54\n",
       "2  259329      246\n",
       "3  259392      331\n",
       "4  259434       73"
      ]
     },
     "execution_count": 139,
     "metadata": {},
     "output_type": "execute_result"
    }
   ],
   "source": [
    "df_amount.head()"
   ]
  },
  {
   "cell_type": "code",
   "execution_count": 140,
   "id": "9814a87b",
   "metadata": {},
   "outputs": [],
   "source": [
    "#merge this data to our main dataframe\n",
    "user_df = pd.merge(user_df, df_amount, on= 'UserId')"
   ]
  },
  {
   "cell_type": "code",
   "execution_count": 145,
   "id": "c62bb0aa",
   "metadata": {
    "scrolled": true
   },
   "outputs": [
    {
     "data": {
      "text/plain": [
       "<matplotlib.collections.PathCollection at 0x228d4a20910>"
      ]
     },
     "execution_count": 145,
     "metadata": {},
     "output_type": "execute_result"
    },
    {
     "data": {
      "image/png": "[encoded data removed]",
      "text/plain": [
       "<Figure size 640x480 with 1 Axes>"
      ]
     },
     "metadata": {},
     "output_type": "display_data"
    }
   ],
   "source": [
    "#plt.scatter(range(user_df.shape[0]), user_df['Revenue'])\n",
    "plt.scatter(range(user_df.shape[0]), user_df['Revenue'])"
   ]
  },
  {
   "cell_type": "code",
   "execution_count": 147,
   "id": "2ce9a812",
   "metadata": {},
   "outputs": [
    {
     "data": {
      "text/html": [
       "<div>\n",
       "<style scoped>\n",
       "    .dataframe tbody tr th:only-of-type {\n",
       "        vertical-align: middle;\n",
       "    }\n",
       "\n",
       "    .dataframe tbody tr th {\n",
       "        vertical-align: top;\n",
       "    }\n",
       "\n",
       "    .dataframe thead th {\n",
       "        text-align: right;\n",
       "    }\n",
       "</style>\n",
       "<table border=\"1\" class=\"dataframe\">\n",
       "  <thead>\n",
       "    <tr style=\"text-align: right;\">\n",
       "      <th></th>\n",
       "      <th>UserId</th>\n",
       "      <th>Recency</th>\n",
       "      <th>Frequency</th>\n",
       "      <th>Revenue</th>\n",
       "    </tr>\n",
       "  </thead>\n",
       "  <tbody>\n",
       "    <tr>\n",
       "      <th>0</th>\n",
       "      <td>378231</td>\n",
       "      <td>373</td>\n",
       "      <td>1</td>\n",
       "      <td>5</td>\n",
       "    </tr>\n",
       "    <tr>\n",
       "      <th>1</th>\n",
       "      <td>368508</td>\n",
       "      <td>373</td>\n",
       "      <td>1</td>\n",
       "      <td>171</td>\n",
       "    </tr>\n",
       "  </tbody>\n",
       "</table>\n",
       "</div>"
      ],
      "text/plain": [
       "   UserId  Recency  Frequency  Revenue\n",
       "0  378231      373          1        5\n",
       "1  368508      373          1      171"
      ]
     },
     "execution_count": 147,
     "metadata": {},
     "output_type": "execute_result"
    }
   ],
   "source": [
    "user_df.head(2)"
   ]
  },
  {
   "cell_type": "code",
   "execution_count": 148,
   "id": "30ce993e",
   "metadata": {},
   "outputs": [
    {
     "data": {
      "text/plain": [
       "<AxesSubplot:>"
      ]
     },
     "execution_count": 148,
     "metadata": {},
     "output_type": "execute_result"
    },
    {
     "data": {
      "image/png": "[encoded data removed]",
      "text/plain": [
       "<Figure size 1000x1000 with 2 Axes>"
      ]
     },
     "metadata": {},
     "output_type": "display_data"
    }
   ],
   "source": [
    "correlation = user_df.corr()\n",
    "#Constructing a heatmap to understand the correlation\n",
    "plt.figure(figsize=(10, 10))\n",
    "sns.heatmap(correlation,cbar=True, square =True,fmt='.1f', annot=True, annot_kws={'size':8}, cmap='coolwarm')"
   ]
  },
  {
   "cell_type": "code",
   "execution_count": 149,
   "id": "6235d804",
   "metadata": {},
   "outputs": [],
   "source": [
    "user_df.to_csv('userData.csv')"
   ]
  }
 ],
 "metadata": {
  "kernelspec": {
   "display_name": "Python 3 (ipykernel)",
   "language": "python",
   "name": "python3"
  },
  "language_info": {
   "codemirror_mode": {
    "name": "ipython",
    "version": 3
   },
   "file_extension": ".py",
   "mimetype": "text/x-python",
   "name": "python",
   "nbconvert_exporter": "python",
   "pygments_lexer": "ipython3",
   "version": "3.9.13"
  }
 },
 "nbformat": 4,
 "nbformat_minor": 5
}
