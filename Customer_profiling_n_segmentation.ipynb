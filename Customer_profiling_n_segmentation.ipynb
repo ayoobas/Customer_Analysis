{
 "cells": [
  {
   "cell_type": "markdown",
   "id": "73ac9d02",
   "metadata": {},
   "source": [
    "## Customer profiling and Segmentation"
   ]
  },
  {
   "cell_type": "code",
   "execution_count": 107,
   "id": "d55bd4d7",
   "metadata": {},
   "outputs": [],
   "source": [
    "import pandas as pd\n",
    "import matplotlib.pyplot as plt\n",
    "from sklearn.cluster import KMeans\n",
    "%matplotlib inline"
   ]
  },
  {
   "cell_type": "code",
   "execution_count": 108,
   "id": "c17d88b0",
   "metadata": {},
   "outputs": [],
   "source": [
    "user_df = pd.read_csv('userData.csv')"
   ]
  },
  {
   "cell_type": "code",
   "execution_count": 109,
   "id": "e1b7dfd2",
   "metadata": {},
   "outputs": [
    {
     "data": {
      "text/plain": [
       "(1742, 5)"
      ]
     },
     "execution_count": 109,
     "metadata": {},
     "output_type": "execute_result"
    }
   ],
   "source": [
    "user_df.shape"
   ]
  },
  {
   "cell_type": "code",
   "execution_count": 110,
   "id": "3e17c98f",
   "metadata": {},
   "outputs": [],
   "source": [
    "kmeans = KMeans(n_clusters = 4)"
   ]
  },
  {
   "cell_type": "markdown",
   "id": "54407f21",
   "metadata": {},
   "source": [
    "## Segmenting Customers based on Recency"
   ]
  },
  {
   "cell_type": "code",
   "execution_count": 111,
   "id": "a74a956b",
   "metadata": {},
   "outputs": [
    {
     "data": {
      "text/html": [
       "<div>\n",
       "<style scoped>\n",
       "    .dataframe tbody tr th:only-of-type {\n",
       "        vertical-align: middle;\n",
       "    }\n",
       "\n",
       "    .dataframe tbody tr th {\n",
       "        vertical-align: top;\n",
       "    }\n",
       "\n",
       "    .dataframe thead th {\n",
       "        text-align: right;\n",
       "    }\n",
       "</style>\n",
       "<table border=\"1\" class=\"dataframe\">\n",
       "  <thead>\n",
       "    <tr style=\"text-align: right;\">\n",
       "      <th></th>\n",
       "      <th>Unnamed: 0</th>\n",
       "      <th>UserId</th>\n",
       "      <th>Recency</th>\n",
       "      <th>Frequency</th>\n",
       "      <th>Revenue</th>\n",
       "    </tr>\n",
       "  </thead>\n",
       "  <tbody>\n",
       "    <tr>\n",
       "      <th>0</th>\n",
       "      <td>0</td>\n",
       "      <td>378231</td>\n",
       "      <td>373</td>\n",
       "      <td>1</td>\n",
       "      <td>5</td>\n",
       "    </tr>\n",
       "    <tr>\n",
       "      <th>1</th>\n",
       "      <td>1</td>\n",
       "      <td>368508</td>\n",
       "      <td>373</td>\n",
       "      <td>1</td>\n",
       "      <td>171</td>\n",
       "    </tr>\n",
       "    <tr>\n",
       "      <th>2</th>\n",
       "      <td>2</td>\n",
       "      <td>377328</td>\n",
       "      <td>373</td>\n",
       "      <td>2</td>\n",
       "      <td>15</td>\n",
       "    </tr>\n",
       "  </tbody>\n",
       "</table>\n",
       "</div>"
      ],
      "text/plain": [
       "   Unnamed: 0  UserId  Recency  Frequency  Revenue\n",
       "0           0  378231      373          1        5\n",
       "1           1  368508      373          1      171\n",
       "2           2  377328      373          2       15"
      ]
     },
     "execution_count": 111,
     "metadata": {},
     "output_type": "execute_result"
    }
   ],
   "source": [
    "user_df.head(3)"
   ]
  },
  {
   "cell_type": "code",
   "execution_count": 112,
   "id": "4625b282",
   "metadata": {},
   "outputs": [
    {
     "data": {
      "text/plain": [
       "KMeans(n_clusters=4)"
      ]
     },
     "execution_count": 112,
     "metadata": {},
     "output_type": "execute_result"
    }
   ],
   "source": [
    "#Fitting the model\n",
    "kmeans.fit(user_df[['Recency']])"
   ]
  },
  {
   "cell_type": "code",
   "execution_count": 113,
   "id": "a5884b44",
   "metadata": {},
   "outputs": [],
   "source": [
    "user_df['RecencyCluster'] = kmeans.predict(user_df[['Recency']])"
   ]
  },
  {
   "cell_type": "code",
   "execution_count": 114,
   "id": "8ccc1b28",
   "metadata": {},
   "outputs": [
    {
     "data": {
      "text/plain": [
       "<AxesSubplot:>"
      ]
     },
     "execution_count": 114,
     "metadata": {},
     "output_type": "execute_result"
    },
    {
     "data": {
      "image/png": "[encoded data removed]",
      "text/plain": [
       "<Figure size 640x480 with 1 Axes>"
      ]
     },
     "metadata": {},
     "output_type": "display_data"
    }
   ],
   "source": [
    "user_df['RecencyCluster'].value_counts().plot.bar()"
   ]
  },
  {
   "cell_type": "code",
   "execution_count": 115,
   "id": "28bce9ac",
   "metadata": {},
   "outputs": [],
   "source": [
    "#create a new dataframe by grouping the dataframe based on different cluster values and find the mean \n",
    "df_new = user_df.groupby('RecencyCluster')['Recency'].mean().reset_index()"
   ]
  },
  {
   "cell_type": "code",
   "execution_count": 116,
   "id": "ac1e37d6",
   "metadata": {},
   "outputs": [
    {
     "data": {
      "text/html": [
       "<div>\n",
       "<style scoped>\n",
       "    .dataframe tbody tr th:only-of-type {\n",
       "        vertical-align: middle;\n",
       "    }\n",
       "\n",
       "    .dataframe tbody tr th {\n",
       "        vertical-align: top;\n",
       "    }\n",
       "\n",
       "    .dataframe thead th {\n",
       "        text-align: right;\n",
       "    }\n",
       "</style>\n",
       "<table border=\"1\" class=\"dataframe\">\n",
       "  <thead>\n",
       "    <tr style=\"text-align: right;\">\n",
       "      <th></th>\n",
       "      <th>RecencyCluster</th>\n",
       "      <th>Recency</th>\n",
       "    </tr>\n",
       "  </thead>\n",
       "  <tbody>\n",
       "    <tr>\n",
       "      <th>0</th>\n",
       "      <td>0</td>\n",
       "      <td>29.649351</td>\n",
       "    </tr>\n",
       "    <tr>\n",
       "      <th>1</th>\n",
       "      <td>1</td>\n",
       "      <td>210.846395</td>\n",
       "    </tr>\n",
       "    <tr>\n",
       "      <th>2</th>\n",
       "      <td>2</td>\n",
       "      <td>107.939024</td>\n",
       "    </tr>\n",
       "    <tr>\n",
       "      <th>3</th>\n",
       "      <td>3</td>\n",
       "      <td>319.123457</td>\n",
       "    </tr>\n",
       "  </tbody>\n",
       "</table>\n",
       "</div>"
      ],
      "text/plain": [
       "   RecencyCluster     Recency\n",
       "0               0   29.649351\n",
       "1               1  210.846395\n",
       "2               2  107.939024\n",
       "3               3  319.123457"
      ]
     },
     "execution_count": 116,
     "metadata": {},
     "output_type": "execute_result"
    }
   ],
   "source": [
    "df_new"
   ]
  },
  {
   "cell_type": "code",
   "execution_count": 117,
   "id": "6c957102",
   "metadata": {},
   "outputs": [],
   "source": [
    "#df_new.rename(columns = {\"Recency \":\"RececyMean\"}, inplace=True)"
   ]
  },
  {
   "cell_type": "code",
   "execution_count": 118,
   "id": "bcdb5199",
   "metadata": {},
   "outputs": [],
   "source": [
    "df_new.columns = ['RecencyCluster', 'RecencyMean']"
   ]
  },
  {
   "cell_type": "code",
   "execution_count": 119,
   "id": "a64ac970",
   "metadata": {},
   "outputs": [
    {
     "data": {
      "text/html": [
       "<div>\n",
       "<style scoped>\n",
       "    .dataframe tbody tr th:only-of-type {\n",
       "        vertical-align: middle;\n",
       "    }\n",
       "\n",
       "    .dataframe tbody tr th {\n",
       "        vertical-align: top;\n",
       "    }\n",
       "\n",
       "    .dataframe thead th {\n",
       "        text-align: right;\n",
       "    }\n",
       "</style>\n",
       "<table border=\"1\" class=\"dataframe\">\n",
       "  <thead>\n",
       "    <tr style=\"text-align: right;\">\n",
       "      <th></th>\n",
       "      <th>RecencyCluster</th>\n",
       "      <th>RecencyMean</th>\n",
       "    </tr>\n",
       "  </thead>\n",
       "  <tbody>\n",
       "    <tr>\n",
       "      <th>0</th>\n",
       "      <td>0</td>\n",
       "      <td>29.649351</td>\n",
       "    </tr>\n",
       "    <tr>\n",
       "      <th>1</th>\n",
       "      <td>1</td>\n",
       "      <td>210.846395</td>\n",
       "    </tr>\n",
       "    <tr>\n",
       "      <th>2</th>\n",
       "      <td>2</td>\n",
       "      <td>107.939024</td>\n",
       "    </tr>\n",
       "    <tr>\n",
       "      <th>3</th>\n",
       "      <td>3</td>\n",
       "      <td>319.123457</td>\n",
       "    </tr>\n",
       "  </tbody>\n",
       "</table>\n",
       "</div>"
      ],
      "text/plain": [
       "   RecencyCluster  RecencyMean\n",
       "0               0    29.649351\n",
       "1               1   210.846395\n",
       "2               2   107.939024\n",
       "3               3   319.123457"
      ]
     },
     "execution_count": 119,
     "metadata": {},
     "output_type": "execute_result"
    }
   ],
   "source": [
    "df_new"
   ]
  },
  {
   "cell_type": "code",
   "execution_count": 120,
   "id": "719c7fa1",
   "metadata": {},
   "outputs": [
    {
     "data": {
      "text/html": [
       "<div>\n",
       "<style scoped>\n",
       "    .dataframe tbody tr th:only-of-type {\n",
       "        vertical-align: middle;\n",
       "    }\n",
       "\n",
       "    .dataframe tbody tr th {\n",
       "        vertical-align: top;\n",
       "    }\n",
       "\n",
       "    .dataframe thead th {\n",
       "        text-align: right;\n",
       "    }\n",
       "</style>\n",
       "<table border=\"1\" class=\"dataframe\">\n",
       "  <thead>\n",
       "    <tr style=\"text-align: right;\">\n",
       "      <th></th>\n",
       "      <th>RecencyCluster</th>\n",
       "      <th>RecencyMean</th>\n",
       "    </tr>\n",
       "  </thead>\n",
       "  <tbody>\n",
       "    <tr>\n",
       "      <th>0</th>\n",
       "      <td>3</td>\n",
       "      <td>319.123457</td>\n",
       "    </tr>\n",
       "    <tr>\n",
       "      <th>1</th>\n",
       "      <td>1</td>\n",
       "      <td>210.846395</td>\n",
       "    </tr>\n",
       "    <tr>\n",
       "      <th>2</th>\n",
       "      <td>2</td>\n",
       "      <td>107.939024</td>\n",
       "    </tr>\n",
       "    <tr>\n",
       "      <th>3</th>\n",
       "      <td>0</td>\n",
       "      <td>29.649351</td>\n",
       "    </tr>\n",
       "  </tbody>\n",
       "</table>\n",
       "</div>"
      ],
      "text/plain": [
       "   RecencyCluster  RecencyMean\n",
       "0               3   319.123457\n",
       "1               1   210.846395\n",
       "2               2   107.939024\n",
       "3               0    29.649351"
      ]
     },
     "execution_count": 120,
     "metadata": {},
     "output_type": "execute_result"
    }
   ],
   "source": [
    "df_new = df_new.sort_values(by = 'RecencyMean', ascending = False).reset_index(drop = True)\n",
    "df_new"
   ]
  },
  {
   "cell_type": "code",
   "execution_count": 121,
   "id": "a88b2e2b",
   "metadata": {},
   "outputs": [],
   "source": [
    "#Create a new column called index with the index values\n",
    "df_new['RecencyScore'] = df_new.index"
   ]
  },
  {
   "cell_type": "code",
   "execution_count": 122,
   "id": "b4306f75",
   "metadata": {},
   "outputs": [
    {
     "data": {
      "text/html": [
       "<div>\n",
       "<style scoped>\n",
       "    .dataframe tbody tr th:only-of-type {\n",
       "        vertical-align: middle;\n",
       "    }\n",
       "\n",
       "    .dataframe tbody tr th {\n",
       "        vertical-align: top;\n",
       "    }\n",
       "\n",
       "    .dataframe thead th {\n",
       "        text-align: right;\n",
       "    }\n",
       "</style>\n",
       "<table border=\"1\" class=\"dataframe\">\n",
       "  <thead>\n",
       "    <tr style=\"text-align: right;\">\n",
       "      <th></th>\n",
       "      <th>RecencyCluster</th>\n",
       "      <th>RecencyMean</th>\n",
       "      <th>RecencyScore</th>\n",
       "    </tr>\n",
       "  </thead>\n",
       "  <tbody>\n",
       "    <tr>\n",
       "      <th>0</th>\n",
       "      <td>3</td>\n",
       "      <td>319.123457</td>\n",
       "      <td>0</td>\n",
       "    </tr>\n",
       "    <tr>\n",
       "      <th>1</th>\n",
       "      <td>1</td>\n",
       "      <td>210.846395</td>\n",
       "      <td>1</td>\n",
       "    </tr>\n",
       "    <tr>\n",
       "      <th>2</th>\n",
       "      <td>2</td>\n",
       "      <td>107.939024</td>\n",
       "      <td>2</td>\n",
       "    </tr>\n",
       "    <tr>\n",
       "      <th>3</th>\n",
       "      <td>0</td>\n",
       "      <td>29.649351</td>\n",
       "      <td>3</td>\n",
       "    </tr>\n",
       "  </tbody>\n",
       "</table>\n",
       "</div>"
      ],
      "text/plain": [
       "   RecencyCluster  RecencyMean  RecencyScore\n",
       "0               3   319.123457             0\n",
       "1               1   210.846395             1\n",
       "2               2   107.939024             2\n",
       "3               0    29.649351             3"
      ]
     },
     "execution_count": 122,
     "metadata": {},
     "output_type": "execute_result"
    }
   ],
   "source": [
    "#Create a final dataframe by merging our original \n",
    "df_new"
   ]
  },
  {
   "cell_type": "code",
   "execution_count": 126,
   "id": "0e3fe74c",
   "metadata": {},
   "outputs": [],
   "source": [
    "#Create a final dataframe by merging our original dataframe and the new dataframe \n",
    "df_user = pd.merge(user_df, df_new[['RecencyCluster', 'RecencyScore']], on = 'RecencyCluster')\n",
    "#Remove the column for cluster \n",
    "df_user.drop(columns =['RecencyCluster', 'Unnamed: 0'], axis = 1 , inplace =True )\n",
    "\n",
    "\n"
   ]
  },
  {
   "cell_type": "code",
   "execution_count": 127,
   "id": "9b2e7015",
   "metadata": {},
   "outputs": [
    {
     "data": {
      "text/html": [
       "<div>\n",
       "<style scoped>\n",
       "    .dataframe tbody tr th:only-of-type {\n",
       "        vertical-align: middle;\n",
       "    }\n",
       "\n",
       "    .dataframe tbody tr th {\n",
       "        vertical-align: top;\n",
       "    }\n",
       "\n",
       "    .dataframe thead th {\n",
       "        text-align: right;\n",
       "    }\n",
       "</style>\n",
       "<table border=\"1\" class=\"dataframe\">\n",
       "  <thead>\n",
       "    <tr style=\"text-align: right;\">\n",
       "      <th></th>\n",
       "      <th>UserId</th>\n",
       "      <th>Recency</th>\n",
       "      <th>Frequency</th>\n",
       "      <th>Revenue</th>\n",
       "      <th>RecencyScore</th>\n",
       "    </tr>\n",
       "  </thead>\n",
       "  <tbody>\n",
       "    <tr>\n",
       "      <th>0</th>\n",
       "      <td>378231</td>\n",
       "      <td>373</td>\n",
       "      <td>1</td>\n",
       "      <td>5</td>\n",
       "      <td>0</td>\n",
       "    </tr>\n",
       "    <tr>\n",
       "      <th>1</th>\n",
       "      <td>368508</td>\n",
       "      <td>373</td>\n",
       "      <td>1</td>\n",
       "      <td>171</td>\n",
       "      <td>0</td>\n",
       "    </tr>\n",
       "    <tr>\n",
       "      <th>2</th>\n",
       "      <td>377328</td>\n",
       "      <td>373</td>\n",
       "      <td>2</td>\n",
       "      <td>15</td>\n",
       "      <td>0</td>\n",
       "    </tr>\n",
       "    <tr>\n",
       "      <th>3</th>\n",
       "      <td>333102</td>\n",
       "      <td>373</td>\n",
       "      <td>1</td>\n",
       "      <td>17</td>\n",
       "      <td>0</td>\n",
       "    </tr>\n",
       "    <tr>\n",
       "      <th>4</th>\n",
       "      <td>341754</td>\n",
       "      <td>373</td>\n",
       "      <td>1</td>\n",
       "      <td>10</td>\n",
       "      <td>0</td>\n",
       "    </tr>\n",
       "  </tbody>\n",
       "</table>\n",
       "</div>"
      ],
      "text/plain": [
       "   UserId  Recency  Frequency  Revenue  RecencyScore\n",
       "0  378231      373          1        5             0\n",
       "1  368508      373          1      171             0\n",
       "2  377328      373          2       15             0\n",
       "3  333102      373          1       17             0\n",
       "4  341754      373          1       10             0"
      ]
     },
     "execution_count": 127,
     "metadata": {},
     "output_type": "execute_result"
    }
   ],
   "source": [
    "df_user.head()"
   ]
  },
  {
   "cell_type": "code",
   "execution_count": 130,
   "id": "22dcaec8",
   "metadata": {},
   "outputs": [
    {
     "data": {
      "text/html": [
       "<div>\n",
       "<style scoped>\n",
       "    .dataframe tbody tr th:only-of-type {\n",
       "        vertical-align: middle;\n",
       "    }\n",
       "\n",
       "    .dataframe tbody tr th {\n",
       "        vertical-align: top;\n",
       "    }\n",
       "\n",
       "    .dataframe thead th {\n",
       "        text-align: right;\n",
       "    }\n",
       "</style>\n",
       "<table border=\"1\" class=\"dataframe\">\n",
       "  <thead>\n",
       "    <tr style=\"text-align: right;\">\n",
       "      <th></th>\n",
       "      <th>count</th>\n",
       "      <th>mean</th>\n",
       "      <th>std</th>\n",
       "      <th>min</th>\n",
       "      <th>25%</th>\n",
       "      <th>50%</th>\n",
       "      <th>75%</th>\n",
       "      <th>max</th>\n",
       "    </tr>\n",
       "    <tr>\n",
       "      <th>RecencyScore</th>\n",
       "      <th></th>\n",
       "      <th></th>\n",
       "      <th></th>\n",
       "      <th></th>\n",
       "      <th></th>\n",
       "      <th></th>\n",
       "      <th></th>\n",
       "      <th></th>\n",
       "    </tr>\n",
       "  </thead>\n",
       "  <tbody>\n",
       "    <tr>\n",
       "      <th>0</th>\n",
       "      <td>243.0</td>\n",
       "      <td>319.123457</td>\n",
       "      <td>33.049443</td>\n",
       "      <td>266.0</td>\n",
       "      <td>291.0</td>\n",
       "      <td>315.0</td>\n",
       "      <td>353.5</td>\n",
       "      <td>373.0</td>\n",
       "    </tr>\n",
       "    <tr>\n",
       "      <th>1</th>\n",
       "      <td>319.0</td>\n",
       "      <td>210.846395</td>\n",
       "      <td>30.547492</td>\n",
       "      <td>161.0</td>\n",
       "      <td>184.0</td>\n",
       "      <td>211.0</td>\n",
       "      <td>239.0</td>\n",
       "      <td>264.0</td>\n",
       "    </tr>\n",
       "    <tr>\n",
       "      <th>2</th>\n",
       "      <td>410.0</td>\n",
       "      <td>107.939024</td>\n",
       "      <td>28.222894</td>\n",
       "      <td>70.0</td>\n",
       "      <td>82.0</td>\n",
       "      <td>105.0</td>\n",
       "      <td>134.0</td>\n",
       "      <td>159.0</td>\n",
       "    </tr>\n",
       "    <tr>\n",
       "      <th>3</th>\n",
       "      <td>770.0</td>\n",
       "      <td>29.649351</td>\n",
       "      <td>19.454436</td>\n",
       "      <td>0.0</td>\n",
       "      <td>14.0</td>\n",
       "      <td>28.0</td>\n",
       "      <td>44.0</td>\n",
       "      <td>68.0</td>\n",
       "    </tr>\n",
       "  </tbody>\n",
       "</table>\n",
       "</div>"
      ],
      "text/plain": [
       "              count        mean        std    min    25%    50%    75%    max\n",
       "RecencyScore                                                                 \n",
       "0             243.0  319.123457  33.049443  266.0  291.0  315.0  353.5  373.0\n",
       "1             319.0  210.846395  30.547492  161.0  184.0  211.0  239.0  264.0\n",
       "2             410.0  107.939024  28.222894   70.0   82.0  105.0  134.0  159.0\n",
       "3             770.0   29.649351  19.454436    0.0   14.0   28.0   44.0   68.0"
      ]
     },
     "execution_count": 130,
     "metadata": {},
     "output_type": "execute_result"
    }
   ],
   "source": [
    "df_user.groupby('RecencyScore')['Recency'].describe()"
   ]
  },
  {
   "cell_type": "code",
   "execution_count": 131,
   "id": "c3630728",
   "metadata": {},
   "outputs": [
    {
     "data": {
      "text/plain": [
       "KMeans(n_clusters=4)"
      ]
     },
     "execution_count": 131,
     "metadata": {},
     "output_type": "execute_result"
    }
   ],
   "source": [
    "#Segmenting customers based on frequency\n",
    "kmeans.fit(df_user[['Frequency']])"
   ]
  },
  {
   "cell_type": "code",
   "execution_count": 132,
   "id": "bc3a78a1",
   "metadata": {},
   "outputs": [],
   "source": [
    "df_user['FrequencyCluster'] = kmeans.predict(df_user[['Frequency']])"
   ]
  },
  {
   "cell_type": "code",
   "execution_count": 133,
   "id": "80dd6bef",
   "metadata": {},
   "outputs": [
    {
     "data": {
      "text/plain": [
       "<AxesSubplot:>"
      ]
     },
     "execution_count": 133,
     "metadata": {},
     "output_type": "execute_result"
    },
    {
     "data": {
      "image/png": "[encoded data removed]",
      "text/plain": [
       "<Figure size 640x480 with 1 Axes>"
      ]
     },
     "metadata": {},
     "output_type": "display_data"
    }
   ],
   "source": [
    "#Plotting the counts of data in each cluster\n",
    "df_user['FrequencyCluster'].value_counts().plot.bar()"
   ]
  },
  {
   "cell_type": "code",
   "execution_count": 134,
   "id": "918857b3",
   "metadata": {},
   "outputs": [],
   "source": [
    "#Ordering cluster numbers\n",
    "def order_cluster(cluster_name, column_name, df,ascending):\n",
    "    \"\"\"\n",
    "    Order clusters based on their mean values\n",
    "    \"\"\"\n",
    "    #create a new dataframe by grouping the dataframe based on different cluster values and find the \n",
    "    df_new = df.groupby(cluster_name)[column_name].mean().reset_index()\n",
    "    \n",
    "    #sort the values\n",
    "    df_new = df_new.sort_values(by=column_name, ascending = ascending).reset_index(drop=True)\n",
    "    #Creat a new column with the index values as score\n",
    "    new_column = column_name + 'Score'\n",
    "    df_new[new_column] = df_new.index\n",
    "    \n",
    "    #Create a final dataframe by merging our original dataframe and the new dataframe\n",
    "    df_final = pd.merge(df, df_new[[cluster_name, new_column]], on=cluster_name)\n",
    "    \n",
    "    #Remove the column for cluster\n",
    "    df_final.drop(cluster_name, axis=1, inplace=True)\n",
    "    \n",
    "    return df_final\n",
    "\n",
    "    \n",
    "    "
   ]
  },
  {
   "cell_type": "code",
   "execution_count": 135,
   "id": "7dbb1e0e",
   "metadata": {},
   "outputs": [],
   "source": [
    "df_user = order_cluster('FrequencyCluster', 'Frequency', df_user, True)\n"
   ]
  },
  {
   "cell_type": "code",
   "execution_count": 136,
   "id": "5cca2e7b",
   "metadata": {},
   "outputs": [
    {
     "data": {
      "text/html": [
       "<div>\n",
       "<style scoped>\n",
       "    .dataframe tbody tr th:only-of-type {\n",
       "        vertical-align: middle;\n",
       "    }\n",
       "\n",
       "    .dataframe tbody tr th {\n",
       "        vertical-align: top;\n",
       "    }\n",
       "\n",
       "    .dataframe thead th {\n",
       "        text-align: right;\n",
       "    }\n",
       "</style>\n",
       "<table border=\"1\" class=\"dataframe\">\n",
       "  <thead>\n",
       "    <tr style=\"text-align: right;\">\n",
       "      <th></th>\n",
       "      <th>UserId</th>\n",
       "      <th>Recency</th>\n",
       "      <th>Frequency</th>\n",
       "      <th>Revenue</th>\n",
       "      <th>RecencyScore</th>\n",
       "      <th>FrequencyScore</th>\n",
       "    </tr>\n",
       "  </thead>\n",
       "  <tbody>\n",
       "    <tr>\n",
       "      <th>0</th>\n",
       "      <td>378231</td>\n",
       "      <td>373</td>\n",
       "      <td>1</td>\n",
       "      <td>5</td>\n",
       "      <td>0</td>\n",
       "      <td>0</td>\n",
       "    </tr>\n",
       "    <tr>\n",
       "      <th>1</th>\n",
       "      <td>368508</td>\n",
       "      <td>373</td>\n",
       "      <td>1</td>\n",
       "      <td>171</td>\n",
       "      <td>0</td>\n",
       "      <td>0</td>\n",
       "    </tr>\n",
       "    <tr>\n",
       "      <th>2</th>\n",
       "      <td>377328</td>\n",
       "      <td>373</td>\n",
       "      <td>2</td>\n",
       "      <td>15</td>\n",
       "      <td>0</td>\n",
       "      <td>0</td>\n",
       "    </tr>\n",
       "    <tr>\n",
       "      <th>3</th>\n",
       "      <td>333102</td>\n",
       "      <td>373</td>\n",
       "      <td>1</td>\n",
       "      <td>17</td>\n",
       "      <td>0</td>\n",
       "      <td>0</td>\n",
       "    </tr>\n",
       "    <tr>\n",
       "      <th>4</th>\n",
       "      <td>341754</td>\n",
       "      <td>373</td>\n",
       "      <td>1</td>\n",
       "      <td>10</td>\n",
       "      <td>0</td>\n",
       "      <td>0</td>\n",
       "    </tr>\n",
       "  </tbody>\n",
       "</table>\n",
       "</div>"
      ],
      "text/plain": [
       "   UserId  Recency  Frequency  Revenue  RecencyScore  FrequencyScore\n",
       "0  378231      373          1        5             0               0\n",
       "1  368508      373          1      171             0               0\n",
       "2  377328      373          2       15             0               0\n",
       "3  333102      373          1       17             0               0\n",
       "4  341754      373          1       10             0               0"
      ]
     },
     "execution_count": 136,
     "metadata": {},
     "output_type": "execute_result"
    }
   ],
   "source": [
    "df_user.head()"
   ]
  },
  {
   "cell_type": "code",
   "execution_count": 137,
   "id": "1dfd6ef2",
   "metadata": {},
   "outputs": [
    {
     "data": {
      "text/html": [
       "<div>\n",
       "<style scoped>\n",
       "    .dataframe tbody tr th:only-of-type {\n",
       "        vertical-align: middle;\n",
       "    }\n",
       "\n",
       "    .dataframe tbody tr th {\n",
       "        vertical-align: top;\n",
       "    }\n",
       "\n",
       "    .dataframe thead th {\n",
       "        text-align: right;\n",
       "    }\n",
       "</style>\n",
       "<table border=\"1\" class=\"dataframe\">\n",
       "  <thead>\n",
       "    <tr style=\"text-align: right;\">\n",
       "      <th></th>\n",
       "      <th>count</th>\n",
       "      <th>mean</th>\n",
       "      <th>std</th>\n",
       "      <th>min</th>\n",
       "      <th>25%</th>\n",
       "      <th>50%</th>\n",
       "      <th>75%</th>\n",
       "      <th>max</th>\n",
       "    </tr>\n",
       "    <tr>\n",
       "      <th>FrequencyScore</th>\n",
       "      <th></th>\n",
       "      <th></th>\n",
       "      <th></th>\n",
       "      <th></th>\n",
       "      <th></th>\n",
       "      <th></th>\n",
       "      <th></th>\n",
       "      <th></th>\n",
       "    </tr>\n",
       "  </thead>\n",
       "  <tbody>\n",
       "    <tr>\n",
       "      <th>0</th>\n",
       "      <td>1606.0</td>\n",
       "      <td>1.618929</td>\n",
       "      <td>0.884897</td>\n",
       "      <td>1.0</td>\n",
       "      <td>1.0</td>\n",
       "      <td>1.0</td>\n",
       "      <td>2.0</td>\n",
       "      <td>4.0</td>\n",
       "    </tr>\n",
       "    <tr>\n",
       "      <th>1</th>\n",
       "      <td>130.0</td>\n",
       "      <td>7.330769</td>\n",
       "      <td>3.204620</td>\n",
       "      <td>5.0</td>\n",
       "      <td>5.0</td>\n",
       "      <td>6.0</td>\n",
       "      <td>8.0</td>\n",
       "      <td>17.0</td>\n",
       "    </tr>\n",
       "    <tr>\n",
       "      <th>2</th>\n",
       "      <td>5.0</td>\n",
       "      <td>46.200000</td>\n",
       "      <td>15.006665</td>\n",
       "      <td>29.0</td>\n",
       "      <td>39.0</td>\n",
       "      <td>43.0</td>\n",
       "      <td>51.0</td>\n",
       "      <td>69.0</td>\n",
       "    </tr>\n",
       "    <tr>\n",
       "      <th>3</th>\n",
       "      <td>1.0</td>\n",
       "      <td>1175.000000</td>\n",
       "      <td>NaN</td>\n",
       "      <td>1175.0</td>\n",
       "      <td>1175.0</td>\n",
       "      <td>1175.0</td>\n",
       "      <td>1175.0</td>\n",
       "      <td>1175.0</td>\n",
       "    </tr>\n",
       "  </tbody>\n",
       "</table>\n",
       "</div>"
      ],
      "text/plain": [
       "                 count         mean        std     min     25%     50%  \\\n",
       "FrequencyScore                                                           \n",
       "0               1606.0     1.618929   0.884897     1.0     1.0     1.0   \n",
       "1                130.0     7.330769   3.204620     5.0     5.0     6.0   \n",
       "2                  5.0    46.200000  15.006665    29.0    39.0    43.0   \n",
       "3                  1.0  1175.000000        NaN  1175.0  1175.0  1175.0   \n",
       "\n",
       "                   75%     max  \n",
       "FrequencyScore                  \n",
       "0                  2.0     4.0  \n",
       "1                  8.0    17.0  \n",
       "2                 51.0    69.0  \n",
       "3               1175.0  1175.0  "
      ]
     },
     "execution_count": 137,
     "metadata": {},
     "output_type": "execute_result"
    }
   ],
   "source": [
    "df_user.groupby('FrequencyScore')['Frequency'].describe()"
   ]
  },
  {
   "cell_type": "code",
   "execution_count": null,
   "id": "5919fc9f",
   "metadata": {},
   "outputs": [],
   "source": []
  },
  {
   "cell_type": "code",
   "execution_count": 125,
   "id": "0eb7d353",
   "metadata": {},
   "outputs": [
    {
     "data": {
      "text/plain": [
       "'\\nCustomer profiling and segmentation is a way to learn about the characteristics of customers\\n\\nUnderstanding and grouping your customers aids in servicing their needs better which in turn helps in the growth of the business\\n\\nA common method to profile and segment customers in any business is to look at their amount, recency and frequency of purchase.\\n\\nRecency(R): the most recent purchase within a time frame\\nFrequency(f): the number of purchases within a time frame\\nMonetary value (M) : the total value of purchase amount 1.e The revenue with a time frame \\n\\n\\nLow value : less active than others, not very frequent buyer/ visitor and generates very low or no revenue\\n\\nMid Value: Moderately active, less frequent buyer/ visitor and generates moderate revenue\\n\\nHigh value : highly valuable group of customers taht are very active frequent buyer / visitor and generate high revenue\\n\\nAdvantage of customer profiling and segmentation \\n1\\tIdentify the value of customers\\n2\\tImprove marketing strategies\\n3\\tPredict future purchase patterns\\n4\\tDevelop better products/services etc\\n\\n'"
      ]
     },
     "execution_count": 125,
     "metadata": {},
     "output_type": "execute_result"
    }
   ],
   "source": [
    "\"\"\"\n",
    "Customer profiling and segmentation is a way to learn about the characteristics of customers\n",
    "\n",
    "Understanding and grouping your customers aids in servicing their needs better which in turn helps in the growth of the business\n",
    "\n",
    "A common method to profile and segment customers in any business is to look at their amount, recency and frequency of purchase.\n",
    "\n",
    "Recency(R): the most recent purchase within a time frame\n",
    "Frequency(f): the number of purchases within a time frame\n",
    "Monetary value (M) : the total value of purchase amount 1.e The revenue with a time frame \n",
    "\n",
    "\n",
    "Low value : less active than others, not very frequent buyer/ visitor and generates very low or no revenue\n",
    "\n",
    "Mid Value: Moderately active, less frequent buyer/ visitor and generates moderate revenue\n",
    "\n",
    "High value : highly valuable group of customers taht are very active frequent buyer / visitor and generate high revenue\n",
    "\n",
    "Advantage of customer profiling and segmentation \n",
    "1\tIdentify the value of customers\n",
    "2\tImprove marketing strategies\n",
    "3\tPredict future purchase patterns\n",
    "4\tDevelop better products/services etc\n",
    "\n",
    "\"\"\""
   ]
  }
 ],
 "metadata": {
  "kernelspec": {
   "display_name": "Python 3 (ipykernel)",
   "language": "python",
   "name": "python3"
  },
  "language_info": {
   "codemirror_mode": {
    "name": "ipython",
    "version": 3
   },
   "file_extension": ".py",
   "mimetype": "text/x-python",
   "name": "python",
   "nbconvert_exporter": "python",
   "pygments_lexer": "ipython3",
   "version": "3.9.13"
  }
 },
 "nbformat": 4,
 "nbformat_minor": 5
}
